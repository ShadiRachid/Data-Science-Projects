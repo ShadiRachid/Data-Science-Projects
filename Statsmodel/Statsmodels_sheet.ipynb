{
 "cells": [
  {
   "cell_type": "markdown",
   "id": "904fb58d",
   "metadata": {},
   "source": [
    "# Statsmodels Sheet"
   ]
  },
  {
   "cell_type": "markdown",
   "id": "c5d77d0c",
   "metadata": {},
   "source": [
    "## Simple Linear Regression"
   ]
  },
  {
   "cell_type": "code",
   "execution_count": null,
   "id": "715d5373",
   "metadata": {},
   "outputs": [],
   "source": [
    "import statsmodels.api as sm\n",
    "\n",
    "x1 = data[['independent_variable']]\n",
    "y = data['dependent_variable']\n",
    "\n",
    "x = sm.add_constant(x1)\n",
    "results = sm.OLS(y,x).fit()\n",
    "results.summary()\n",
    "\n",
    "# y-intercept\n",
    "y_intercept = results.params[0]\n",
    "\n",
    "# independent variable coefficient\n",
    "coefficient = results.params[1]\n",
    "\n",
    "# R2 value\n",
    "R2 = results.rsquared\n",
    "\n",
    "#p-value\n",
    "P = results.pvalues[1] \n",
    "\n",
    "# Regression model could be given as\n",
    "yhat = (coefficient * x1) + y_intercept"
   ]
  },
  {
   "cell_type": "markdown",
   "id": "5d6929d1",
   "metadata": {},
   "source": [
    "## Multiple Linear Regression"
   ]
  },
  {
   "cell_type": "code",
   "execution_count": null,
   "id": "7990ef8e",
   "metadata": {},
   "outputs": [],
   "source": [
    "import statsmodels.api as sm\n",
    "\n",
    "x = data[['independent_variable_1','independent_variable_2']]\n",
    "y = data['dependent_variable']\n",
    "\n",
    "x = sm.add_constant(x1)\n",
    "results = sm.OLS(y,x).fit()\n",
    "results.summary()\n",
    "\n",
    "# y-intercept\n",
    "y_intercept = results.params[0]\n",
    "\n",
    "# independent variables coefficients\n",
    "coefficient_1 = results.params[1]\n",
    "coefficient_2 = results.params[2]\n",
    "\n",
    "# R2 value\n",
    "R2 = results.rsquared\n",
    "\n",
    "# adjusted R2 value\n",
    "adj_R2 = results.rsquared_adj\n",
    "\n",
    "#p-values\n",
    "P1 = results.pvalues[1] \n",
    "P2 = results.pvalues[2] \n",
    "\n",
    "# Regression model could be given as\n",
    "yhat = (coefficient_1 * x1['independent_variable_1']) + (coefficient_2 * x1['independent_variable_2']) + y_intercept"
   ]
  },
  {
   "cell_type": "markdown",
   "id": "b3ba4e8d",
   "metadata": {},
   "source": [
    "## Dummy Variables"
   ]
  },
  {
   "cell_type": "code",
   "execution_count": null,
   "id": "17a10bed",
   "metadata": {},
   "outputs": [],
   "source": [
    "data = raw_data.copy()\n",
    "data['independent_variable'] = data['independent_variable'].map({'value_1': 1, 'value_2': 0})"
   ]
  },
  {
   "cell_type": "markdown",
   "id": "f07f944a",
   "metadata": {},
   "source": [
    "## Predictions"
   ]
  },
  {
   "cell_type": "code",
   "execution_count": null,
   "id": "84e21695",
   "metadata": {},
   "outputs": [],
   "source": [
    "# Create a new data frame, identical in organization to X.\n",
    "# The constant is always 1, while each of the lines corresponds to an observation \n",
    "new_data = pd.DataFrame({'const': 1,'values_1': [1, 2], 'values_2': [3, 4]})\n",
    "predictions = results.predict(new_data)"
   ]
  }
 ],
 "metadata": {
  "kernelspec": {
   "display_name": "Python 3 (ipykernel)",
   "language": "python",
   "name": "python3"
  },
  "language_info": {
   "codemirror_mode": {
    "name": "ipython",
    "version": 3
   },
   "file_extension": ".py",
   "mimetype": "text/x-python",
   "name": "python",
   "nbconvert_exporter": "python",
   "pygments_lexer": "ipython3",
   "version": "3.9.7"
  }
 },
 "nbformat": 4,
 "nbformat_minor": 5
}
