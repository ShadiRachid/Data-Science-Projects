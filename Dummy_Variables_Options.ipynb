{
 "cells": [
  {
   "cell_type": "markdown",
   "id": "af80c40c",
   "metadata": {},
   "source": [
    "# Dummy Variables Approaches\n",
    "\n",
    "##### 1. Pandas: get_dummies/ Concat/ Merge\n",
    "    a. Dummy Data Frame\n",
    "    b. Concatanation\n",
    "    c. Merge\n",
    "##### 2. Mapping\n",
    "##### 3. Loc Function"
   ]
  },
  {
   "cell_type": "code",
   "execution_count": null,
   "id": "406714c3",
   "metadata": {},
   "outputs": [],
   "source": [
    "import pandas as pd\n",
    "\n",
    "df = pd.read_table('http://data.princeton.edu/wws509/datasets/salary.dat', delim_whitespace = True)\n",
    "df.head()"
   ]
  },
  {
   "cell_type": "code",
   "execution_count": null,
   "id": "063952ee",
   "metadata": {},
   "outputs": [],
   "source": [
    "# Get different unique values in categorical column\n",
    "df['sx'].unique()"
   ]
  },
  {
   "cell_type": "markdown",
   "id": "2383bae7",
   "metadata": {},
   "source": [
    "## 1. Pandas: get_dummies / Concat/ Merge"
   ]
  },
  {
   "cell_type": "markdown",
   "id": "ecd71c8f",
   "metadata": {},
   "source": [
    "### a. Dummy Dataframe"
   ]
  },
  {
   "cell_type": "code",
   "execution_count": null,
   "id": "38dd9454",
   "metadata": {},
   "outputs": [],
   "source": [
    "dummies = pd.get_dummies(df['sx'], prefix = 'sex')\n",
    "dummies.head()"
   ]
  },
  {
   "cell_type": "markdown",
   "id": "cf234752",
   "metadata": {},
   "source": [
    "### b. Concatanation"
   ]
  },
  {
   "cell_type": "code",
   "execution_count": null,
   "id": "ddb0e42b",
   "metadata": {},
   "outputs": [],
   "source": [
    "df1 = pd.concat([df,dummies],axis = 1)\n",
    "df1.head()"
   ]
  },
  {
   "cell_type": "markdown",
   "id": "dd1e4413",
   "metadata": {},
   "source": [
    "### c. Merging"
   ]
  },
  {
   "cell_type": "code",
   "execution_count": null,
   "id": "83861607",
   "metadata": {},
   "outputs": [],
   "source": [
    "df2 = df.merge(dummies, left_index = True, right_index = True)\n",
    "df2.head()"
   ]
  },
  {
   "cell_type": "markdown",
   "id": "aff2f435",
   "metadata": {},
   "source": [
    "## 2. Mapping"
   ]
  },
  {
   "cell_type": "code",
   "execution_count": null,
   "id": "de8d0d20",
   "metadata": {},
   "outputs": [],
   "source": [
    "df3 = df.copy()\n",
    "df3['sx_dummies']=df3['sx'].map({'male':0,'female':1})\n",
    "df3.head()"
   ]
  },
  {
   "cell_type": "markdown",
   "id": "21b8cac9",
   "metadata": {},
   "source": [
    "## 3. loc function"
   ]
  },
  {
   "cell_type": "code",
   "execution_count": null,
   "id": "1601de5e",
   "metadata": {},
   "outputs": [],
   "source": [
    "df4 = df.copy()\n",
    "df4.loc[df['sx']=='male','sx_dummies'] = 0\n",
    "df4.loc[df['sx']=='female','sx_dummies'] = 1\n",
    "df4['sx_dummies'] = df4['sx_dummies'].astype(int)\n",
    "df4.head()"
   ]
  }
 ],
 "metadata": {
  "kernelspec": {
   "display_name": "Python 3 (ipykernel)",
   "language": "python",
   "name": "python3"
  },
  "language_info": {
   "codemirror_mode": {
    "name": "ipython",
    "version": 3
   },
   "file_extension": ".py",
   "mimetype": "text/x-python",
   "name": "python",
   "nbconvert_exporter": "python",
   "pygments_lexer": "ipython3",
   "version": "3.9.7"
  }
 },
 "nbformat": 4,
 "nbformat_minor": 5
}
