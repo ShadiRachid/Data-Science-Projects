{
 "cells": [
  {
   "cell_type": "markdown",
   "id": "e8448fff",
   "metadata": {},
   "source": [
    "# Scikit-learn Sheet"
   ]
  },
  {
   "cell_type": "markdown",
   "id": "b57546e2",
   "metadata": {},
   "source": [
    "## Simple Linear Regression"
   ]
  },
  {
   "cell_type": "code",
   "execution_count": null,
   "id": "9c1e5325",
   "metadata": {},
   "outputs": [],
   "source": [
    "from sklearn.linear_model import LinearRegression\n",
    "\n",
    "x = data[['independent_variable']]\n",
    "y = data['dependent_variable']\n",
    "\n",
    "x_matrix = x.values.reshape(-1,1) #only necessary for 1 feature input \n",
    "reg = LinearRegression()\n",
    "reg.fit(x_matrix,y)\n",
    "\n",
    "#R-squared Values\n",
    "reg.score(x_matrix,y)\n",
    "\n",
    "#Coefficient of independent Variable\n",
    "reg.coef_\n",
    "\n",
    "#y-intercept\n",
    "reg.intercept_"
   ]
  },
  {
   "cell_type": "markdown",
   "id": "c8e9a954",
   "metadata": {},
   "source": [
    "#### Predictions"
   ]
  },
  {
   "cell_type": "code",
   "execution_count": null,
   "id": "9273ab37",
   "metadata": {},
   "outputs": [],
   "source": [
    "reg.predict(prediction_df) #could input a single value or a df"
   ]
  },
  {
   "cell_type": "markdown",
   "id": "dba2a580",
   "metadata": {},
   "source": [
    "## Multiple Linear Regression"
   ]
  },
  {
   "cell_type": "code",
   "execution_count": null,
   "id": "dce326cf",
   "metadata": {},
   "outputs": [],
   "source": [
    "from sklearn.linear_model import LinearRegression\n",
    "\n",
    "x = data[['independent_variable_1','independent_variable_2']]\n",
    "y = data['dependent_variable']\n",
    "\n",
    "reg = LinearRegression()\n",
    "reg.fit(x_matrix,y)\n",
    "\n",
    "#R-squared Values\n",
    "reg.score(x_matrix,y)\n",
    "\n",
    "#Coefficients of independent Variables\n",
    "reg.coef_ #output is array\n",
    "\n",
    "#y-intercept\n",
    "reg.intercept_"
   ]
  },
  {
   "cell_type": "markdown",
   "id": "db9e5a44",
   "metadata": {},
   "source": [
    "#### Adjusted R2\n",
    "\n",
    "scikit learn does not have an inbuilt function to calculate adjusted-r2\n",
    "\n",
    "$R^2_{adj.} = 1 - (1-R^2)*\\frac{n-1}{n-p-1}$\n",
    "\n",
    "Therefore we use below function"
   ]
  },
  {
   "cell_type": "code",
   "execution_count": null,
   "id": "ec55870f",
   "metadata": {},
   "outputs": [],
   "source": [
    "def adjusted_r2(independent_variables, dependent_variable):\n",
    "    r2 = reg.score(independent_variables, dependent_variable)\n",
    "    n = independent_variables.shape[0]\n",
    "    p = independent_variables.shape[1]\n",
    "    adjusted_r2 = 1-(1-r2)*(n-1)/(n-p-1)\n",
    "    return adjusted_r2"
   ]
  },
  {
   "cell_type": "markdown",
   "id": "149aaa40",
   "metadata": {},
   "source": [
    "## Feature Selection - F-regression"
   ]
  },
  {
   "cell_type": "code",
   "execution_count": null,
   "id": "76d8ca40",
   "metadata": {},
   "outputs": [],
   "source": [
    "from sklearn.feature_selection import f_regression\n",
    "\n",
    "p_values = f_regression(x,y)[1].round(3)"
   ]
  },
  {
   "cell_type": "markdown",
   "id": "38f4917a",
   "metadata": {},
   "source": [
    "## Standardization"
   ]
  },
  {
   "cell_type": "code",
   "execution_count": null,
   "id": "d3e19789",
   "metadata": {},
   "outputs": [],
   "source": [
    "from sklearn.preprocessing import StandardScaler\n",
    "\n",
    "scaler = StandardScaler()\n",
    "scaler.fit(x)\n",
    "x_scaled = scaler.transform(x)\n",
    "\n",
    "## remember to scale prediction data"
   ]
  },
  {
   "cell_type": "markdown",
   "id": "b610b8f7",
   "metadata": {},
   "source": [
    "## Train - Test Split"
   ]
  },
  {
   "cell_type": "code",
   "execution_count": null,
   "id": "d50ad57d",
   "metadata": {},
   "outputs": [],
   "source": [
    "from sklearn.model_selection import train_test_split\n",
    "\n",
    "x = data[['independent_variable_1','independent_variable_2']]\n",
    "y = data['dependent_variable']\n",
    "\n",
    "x_train, x_test, y_train, y_test = train_test_split(x, y, test_size=0.2, random_state=365)"
   ]
  }
 ],
 "metadata": {
  "kernelspec": {
   "display_name": "Python 3 (ipykernel)",
   "language": "python",
   "name": "python3"
  },
  "language_info": {
   "codemirror_mode": {
    "name": "ipython",
    "version": 3
   },
   "file_extension": ".py",
   "mimetype": "text/x-python",
   "name": "python",
   "nbconvert_exporter": "python",
   "pygments_lexer": "ipython3",
   "version": "3.9.7"
  }
 },
 "nbformat": 4,
 "nbformat_minor": 5
}
