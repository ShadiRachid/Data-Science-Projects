{
 "cells": [
  {
   "cell_type": "markdown",
   "id": "e8448fff",
   "metadata": {},
   "source": [
    "# Scikit-learn Sheet"
   ]
  },
  {
   "cell_type": "markdown",
   "id": "a0ea2843",
   "metadata": {},
   "source": [
    "## Simple Linear Regression"
   ]
  },
  {
   "cell_type": "code",
   "execution_count": null,
   "id": "1bba0d3e",
   "metadata": {},
   "outputs": [],
   "source": [
    "from sklearn.linear_model import LinearRegression\n",
    "\n",
    "x = data[['independent_variable']]\n",
    "y = data['dependent_variable']\n",
    "\n",
    "x_matrix = x.values.reshape(-1,1) #only necessary for 1 feature input \n",
    "reg = LinearRegression()\n",
    "reg.fit(x_matrix,y)\n",
    "\n",
    "#R-squared Values\n",
    "reg.score(x_matrix,y)\n",
    "\n",
    "#Coefficient of independent Variable\n",
    "reg.coef_\n",
    "\n",
    "#y-intercept\n",
    "reg.intercept_"
   ]
  },
  {
   "cell_type": "markdown",
   "id": "8c4d4900",
   "metadata": {},
   "source": [
    "#### Predictions"
   ]
  },
  {
   "cell_type": "code",
   "execution_count": null,
   "id": "32a9217b",
   "metadata": {},
   "outputs": [],
   "source": [
    "reg.predict(prediction_df) #could input a single value or a df"
   ]
  },
  {
   "cell_type": "markdown",
   "id": "b610b8f7",
   "metadata": {},
   "source": [
    "## Train - Test Split"
   ]
  },
  {
   "cell_type": "code",
   "execution_count": null,
   "id": "cd7b84bf",
   "metadata": {},
   "outputs": [],
   "source": [
    "from sklearn.model_selection import train_test_split\n",
    "\n",
    "x = data[['independent_variable_1','independent_variable_2']]\n",
    "y = data['dependent_variable']\n",
    "\n",
    "x_train, x_test, y_train, y_test = train_test_split(x, y, test_size=0.2, random_state=365)"
   ]
  }
 ],
 "metadata": {
  "kernelspec": {
   "display_name": "Python 3 (ipykernel)",
   "language": "python",
   "name": "python3"
  },
  "language_info": {
   "codemirror_mode": {
    "name": "ipython",
    "version": 3
   },
   "file_extension": ".py",
   "mimetype": "text/x-python",
   "name": "python",
   "nbconvert_exporter": "python",
   "pygments_lexer": "ipython3",
   "version": "3.9.7"
  }
 },
 "nbformat": 4,
 "nbformat_minor": 5
}
